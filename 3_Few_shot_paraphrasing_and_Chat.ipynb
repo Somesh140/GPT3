{
  "nbformat": 4,
  "nbformat_minor": 0,
  "metadata": {
    "colab": {
      "provenance": [],
      "include_colab_link": true
    },
    "kernelspec": {
      "name": "python3",
      "display_name": "Python 3"
    },
    "language_info": {
      "name": "python"
    }
  },
  "cells": [
    {
      "cell_type": "markdown",
      "metadata": {
        "id": "view-in-github",
        "colab_type": "text"
      },
      "source": [
        "<a href=\"https://colab.research.google.com/github/Somesh140/GPT3/blob/main/3_Few_shot_paraphrasing_and_Chat.ipynb\" target=\"_parent\"><img src=\"https://colab.research.google.com/assets/colab-badge.svg\" alt=\"Open In Colab\"/></a>"
      ]
    },
    {
      "cell_type": "code",
      "metadata": {
        "colab": {
          "base_uri": "https://localhost:8080/"
        },
        "id": "A3r0NrYZu3__",
        "outputId": "c2460aec-1f69-4fea-a158-a1336a869906"
      },
      "source": [
        "!pip install --quiet openai"
      ],
      "execution_count": 1,
      "outputs": [
        {
          "output_type": "stream",
          "name": "stdout",
          "text": [
            "\u001b[2K     \u001b[90m━━━━━━━━━━━━━━━━━━━━━━━━━━━━━━━━━━━━━━━━\u001b[0m \u001b[32m72.0/72.0 kB\u001b[0m \u001b[31m6.0 MB/s\u001b[0m eta \u001b[36m0:00:00\u001b[0m\n",
            "\u001b[2K     \u001b[90m━━━━━━━━━━━━━━━━━━━━━━━━━━━━━━━━━━━━━━━━\u001b[0m \u001b[32m1.0/1.0 MB\u001b[0m \u001b[31m52.8 MB/s\u001b[0m eta \u001b[36m0:00:00\u001b[0m\n",
            "\u001b[2K     \u001b[90m━━━━━━━━━━━━━━━━━━━━━━━━━━━━━━━━━━━━━━\u001b[0m \u001b[32m114.5/114.5 kB\u001b[0m \u001b[31m12.3 MB/s\u001b[0m eta \u001b[36m0:00:00\u001b[0m\n",
            "\u001b[2K     \u001b[90m━━━━━━━━━━━━━━━━━━━━━━━━━━━━━━━━━━━━━━\u001b[0m \u001b[32m268.8/268.8 kB\u001b[0m \u001b[31m24.4 MB/s\u001b[0m eta \u001b[36m0:00:00\u001b[0m\n",
            "\u001b[2K     \u001b[90m━━━━━━━━━━━━━━━━━━━━━━━━━━━━━━━━━━━━━━\u001b[0m \u001b[32m149.6/149.6 kB\u001b[0m \u001b[31m11.9 MB/s\u001b[0m eta \u001b[36m0:00:00\u001b[0m\n",
            "\u001b[?25h"
          ]
        }
      ]
    },
    {
      "cell_type": "code",
      "metadata": {
        "colab": {
          "base_uri": "https://localhost:8080/"
        },
        "id": "ZpybtGC92iv1",
        "outputId": "279ca0bc-58a6-4e4b-fd34-c78433e84ce8"
      },
      "source": [
        "import os\n",
        "import openai\n",
        "import getpass\n",
        "\n",
        "openai.api_key = getpass.getpass(prompt='Enter OpenAI API key:')"
      ],
      "execution_count": 7,
      "outputs": [
        {
          "name": "stdout",
          "output_type": "stream",
          "text": [
            "Enter OpenAI API key:··········\n"
          ]
        }
      ]
    },
    {
      "cell_type": "code",
      "metadata": {
        "id": "QkV5sySK2vMB"
      },
      "source": [
        "import os\n",
        "import openai\n",
        "\n",
        "sentence = \"My name is Somesh\"\n",
        "created_prompt = \"I am a diverse paraphraser. I will rewrite the original sentence with a completely different choice of words preserving the meaning:\\n\\nsentence: Once, a group of frogs was roaming around the forest in search of water.\\nparaphrase: A gang of frogs was roaming about the woods in search of water once more.\\n\\nsentence: %s\\nparaphrase:\"%(sentence)\n",
        "\n",
        "response = openai.Completion.create(\n",
        "  engine=\"davinci-instruct-beta\",\n",
        "  prompt=created_prompt,\n",
        "  temperature=0.9,\n",
        "  max_tokens=103,\n",
        "  top_p=1,\n",
        "  frequency_penalty=0.6,\n",
        "  presence_penalty=0.6,\n",
        "  stop=[\"\\n\", \"sentence\"]\n",
        ")"
      ],
      "execution_count": 3,
      "outputs": []
    },
    {
      "cell_type": "code",
      "metadata": {
        "colab": {
          "base_uri": "https://localhost:8080/"
        },
        "id": "tZy9t2YF3bJ2",
        "outputId": "e2d6f463-fe2c-4c25-df5c-debc41ed94cc"
      },
      "source": [
        "print (response)\n",
        "\n",
        "print (\"___________________________Original_____________________________\")\n",
        "print (sentence)\n",
        "\n",
        "print (\"___________________________Paraphrase_____________________________\")\n",
        "print (response['choices'][0]['text'].strip())"
      ],
      "execution_count": 4,
      "outputs": [
        {
          "output_type": "stream",
          "name": "stdout",
          "text": [
            "{\n",
            "  \"choices\": [\n",
            "    {\n",
            "      \"finish_reason\": \"stop\",\n",
            "      \"index\": 0,\n",
            "      \"logprobs\": null,\n",
            "      \"text\": \" My name is this.\"\n",
            "    }\n",
            "  ],\n",
            "  \"created\": 1685625915,\n",
            "  \"id\": \"cmpl-7Mcah4LWETz4MBQhXBwaHkEe8TOxH\",\n",
            "  \"model\": \"davinci-instruct-beta\",\n",
            "  \"object\": \"text_completion\",\n",
            "  \"usage\": {\n",
            "    \"completion_tokens\": 5,\n",
            "    \"prompt_tokens\": 83,\n",
            "    \"total_tokens\": 88\n",
            "  }\n",
            "}\n",
            "___________________________Original_____________________________\n",
            "My name is Somesh\n",
            "___________________________Paraphrase_____________________________\n",
            "My name is this.\n"
          ]
        }
      ]
    },
    {
      "cell_type": "code",
      "source": [
        "import os\n",
        "import openai\n",
        "\n",
        "#openai.api_key = os.getenv(\"OPENAI_API_KEY\")\n",
        "\n",
        "start_sequence = \"\\nAI:\"\n",
        "restart_sequence = \"\\nHuman: \"\n",
        "\n",
        "sentence = \"write a poem\"\n",
        "created_prompt = \"The following is a conversation with an AI assistant. The assistant is helpful, creative, clever, and very friendly.\\n\\nHuman: Hello, who are you?\\nAI: I am an AI created by OpenAI. How can I help you today?\\nHuman: %s\\nAI:  \"%(sentence)\n",
        "\n",
        "response = openai.Completion.create(\n",
        "  model=\"text-davinci-003\",\n",
        "  prompt=created_prompt,\n",
        "  temperature=0.9,\n",
        "  max_tokens=150,\n",
        "  top_p=1,\n",
        "  frequency_penalty=0,\n",
        "  presence_penalty=0.6,\n",
        "  stop=[\" Human:\", \" AI:\"]\n",
        ")"
      ],
      "metadata": {
        "id": "ohmnQBzA3279"
      },
      "execution_count": 16,
      "outputs": []
    },
    {
      "cell_type": "code",
      "source": [
        "print(response)"
      ],
      "metadata": {
        "id": "GMCeqfZK321Y",
        "colab": {
          "base_uri": "https://localhost:8080/"
        },
        "outputId": "3f1c3b22-a19c-417a-b25e-8008ee90c213"
      },
      "execution_count": 17,
      "outputs": [
        {
          "output_type": "stream",
          "name": "stdout",
          "text": [
            "{\n",
            "  \"choices\": [\n",
            "    {\n",
            "      \"finish_reason\": \"stop\",\n",
            "      \"index\": 0,\n",
            "      \"logprobs\": null,\n",
            "      \"text\": \"\\n\\nRoses are red, violets are blue, \\nMy love for you is strong and true. \\nIn happy times and sad times too, \\nI'm here for always, just for you.\"\n",
            "    }\n",
            "  ],\n",
            "  \"created\": 1685627770,\n",
            "  \"id\": \"cmpl-7Md4cyqy5sJNjOV0ejTd2V8GYVI6Z\",\n",
            "  \"model\": \"text-davinci-003\",\n",
            "  \"object\": \"text_completion\",\n",
            "  \"usage\": {\n",
            "    \"completion_tokens\": 46,\n",
            "    \"prompt_tokens\": 62,\n",
            "    \"total_tokens\": 108\n",
            "  }\n",
            "}\n"
          ]
        }
      ]
    },
    {
      "cell_type": "code",
      "source": [
        "print (\"___________________________Human_____________________________\")\n",
        "print (sentence)\n",
        "\n",
        "print (\"___________________________response_____________________________\")\n",
        "print (response['choices'][0]['text'].strip())"
      ],
      "metadata": {
        "colab": {
          "base_uri": "https://localhost:8080/"
        },
        "id": "Ed4ae1XfOHdL",
        "outputId": "7a1d6839-147d-44a2-9546-d55a71aaf1a5"
      },
      "execution_count": 18,
      "outputs": [
        {
          "output_type": "stream",
          "name": "stdout",
          "text": [
            "___________________________Human_____________________________\n",
            "write a poem\n",
            "___________________________response_____________________________\n",
            "Roses are red, violets are blue, \n",
            "My love for you is strong and true. \n",
            "In happy times and sad times too, \n",
            "I'm here for always, just for you.\n"
          ]
        }
      ]
    },
    {
      "cell_type": "code",
      "source": [],
      "metadata": {
        "id": "xZKY3snnPyU3"
      },
      "execution_count": null,
      "outputs": []
    }
  ]
}