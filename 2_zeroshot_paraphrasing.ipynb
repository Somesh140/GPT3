{
  "cells": [
    {
      "cell_type": "markdown",
      "metadata": {
        "id": "view-in-github",
        "colab_type": "text"
      },
      "source": [
        "<a href=\"https://colab.research.google.com/github/Somesh140/GPT3/blob/main/2_zeroshot_paraphrasing.ipynb\" target=\"_parent\"><img src=\"https://colab.research.google.com/assets/colab-badge.svg\" alt=\"Open In Colab\"/></a>"
      ]
    },
    {
      "cell_type": "code",
      "execution_count": 1,
      "metadata": {
        "colab": {
          "base_uri": "https://localhost:8080/"
        },
        "id": "hB5CDbxXUJgq",
        "outputId": "48c7a7d8-4e5c-40c8-f93b-9655c26d299d"
      },
      "outputs": [
        {
          "output_type": "stream",
          "name": "stdout",
          "text": [
            "\u001b[2K     \u001b[90m━━━━━━━━━━━━━━━━━━━━━━━━━━━━━━━━━━━━━━━━\u001b[0m \u001b[32m72.0/72.0 kB\u001b[0m \u001b[31m2.6 MB/s\u001b[0m eta \u001b[36m0:00:00\u001b[0m\n",
            "\u001b[2K     \u001b[90m━━━━━━━━━━━━━━━━━━━━━━━━━━━━━━━━━━━━━━━━\u001b[0m \u001b[32m1.0/1.0 MB\u001b[0m \u001b[31m15.9 MB/s\u001b[0m eta \u001b[36m0:00:00\u001b[0m\n",
            "\u001b[2K     \u001b[90m━━━━━━━━━━━━━━━━━━━━━━━━━━━━━━━━━━━━━━━\u001b[0m \u001b[32m114.5/114.5 kB\u001b[0m \u001b[31m5.1 MB/s\u001b[0m eta \u001b[36m0:00:00\u001b[0m\n",
            "\u001b[2K     \u001b[90m━━━━━━━━━━━━━━━━━━━━━━━━━━━━━━━━━━━━━━━\u001b[0m \u001b[32m268.8/268.8 kB\u001b[0m \u001b[31m9.7 MB/s\u001b[0m eta \u001b[36m0:00:00\u001b[0m\n",
            "\u001b[2K     \u001b[90m━━━━━━━━━━━━━━━━━━━━━━━━━━━━━━━━━━━━━━\u001b[0m \u001b[32m149.6/149.6 kB\u001b[0m \u001b[31m13.1 MB/s\u001b[0m eta \u001b[36m0:00:00\u001b[0m\n",
            "\u001b[?25h"
          ]
        }
      ],
      "source": [
        "!pip install --quiet openai"
      ]
    },
    {
      "cell_type": "code",
      "execution_count": 2,
      "metadata": {
        "id": "TyXfV1orTRsn",
        "colab": {
          "base_uri": "https://localhost:8080/"
        },
        "outputId": "ed787b26-e1d0-4b89-de3e-51db180e419d"
      },
      "outputs": [
        {
          "name": "stdout",
          "output_type": "stream",
          "text": [
            "Enter OpenAI API key:··········\n"
          ]
        }
      ],
      "source": [
        "import os\n",
        "import openai\n",
        "import getpass\n",
        "\n",
        "openai.api_key = getpass.getpass(prompt='Enter OpenAI API key:')\n"
      ]
    },
    {
      "cell_type": "code",
      "execution_count": 8,
      "metadata": {
        "id": "WZo0p6BuWLmZ"
      },
      "outputs": [],
      "source": [
        "\n",
        "#sentence = \"Once, a group of frogs was roaming around the forest in search of water.\"\n",
        "sentence = \"My name is Somesh\"\n",
        "\n",
        "created_prompt = \"I am a paraphrasing expert. I will rewrite any given sentence with a diverse choice of words preserving the meaning:\\n\\noriginal: %s\\nrewrite:\"%(sentence)\n",
        "\n",
        "\n",
        "response = openai.Completion.create(\n",
        "  engine=\"davinci-instruct-beta\",\n",
        "  prompt=created_prompt,\n",
        "  temperature=0.78,\n",
        "  max_tokens=80,\n",
        "  top_p=1,\n",
        "  frequency_penalty=0.21,\n",
        "  presence_penalty=0.65,\n",
        "  stop=[\"\\n\"]\n",
        ")"
      ]
    },
    {
      "cell_type": "code",
      "source": [],
      "metadata": {
        "id": "PtJD9NOd2juI"
      },
      "execution_count": null,
      "outputs": []
    },
    {
      "cell_type": "code",
      "execution_count": 9,
      "metadata": {
        "colab": {
          "base_uri": "https://localhost:8080/"
        },
        "id": "DNfcDY_SU0C1",
        "outputId": "21668f70-a775-4565-e940-487f82bd9486"
      },
      "outputs": [
        {
          "output_type": "stream",
          "name": "stdout",
          "text": [
            "{\n",
            "  \"choices\": [\n",
            "    {\n",
            "      \"finish_reason\": \"stop\",\n",
            "      \"index\": 0,\n",
            "      \"logprobs\": null,\n",
            "      \"text\": \" I am Somesh\"\n",
            "    }\n",
            "  ],\n",
            "  \"created\": 1685623705,\n",
            "  \"id\": \"cmpl-7Mc13BX3nSg70FBn4aWGgy8nyAV4z\",\n",
            "  \"model\": \"davinci-instruct-beta\",\n",
            "  \"object\": \"text_completion\",\n",
            "  \"usage\": {\n",
            "    \"completion_tokens\": 5,\n",
            "    \"prompt_tokens\": 38,\n",
            "    \"total_tokens\": 43\n",
            "  }\n",
            "}\n",
            "___________________________Original_____________________________\n",
            "My name is Somesh\n",
            "___________________________Paraphrase_____________________________\n",
            "I am Somesh\n"
          ]
        }
      ],
      "source": [
        "print (response)\n",
        "\n",
        "print (\"___________________________Original_____________________________\")\n",
        "print (sentence)\n",
        "\n",
        "print (\"___________________________Paraphrase_____________________________\")\n",
        "print (response['choices'][0]['text'].strip())\n"
      ]
    },
    {
      "cell_type": "code",
      "source": [],
      "metadata": {
        "id": "T0a6kKOqAJ_B"
      },
      "execution_count": null,
      "outputs": []
    }
  ],
  "metadata": {
    "colab": {
      "provenance": [],
      "include_colab_link": true
    },
    "kernelspec": {
      "display_name": "Python 3",
      "name": "python3"
    },
    "language_info": {
      "name": "python"
    }
  },
  "nbformat": 4,
  "nbformat_minor": 0
}